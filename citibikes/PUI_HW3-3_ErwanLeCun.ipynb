{
 "cells": [
  {
   "cell_type": "markdown",
   "metadata": {},
   "source": [
    "# Erwan LeCun\n",
    "#Group Members: Erwan LeCun, Anita Ahmed, Miyabi Ishihara\n",
    "# PUI HW 3 Assignment 3\n",
    "\n",
    "#####We tested to see whether, in any given month, subscribers and customers of Citibike ride their bikes for comparable amounts of time. Our idea was that there could be a lot of variability within the trip duration of the two user types because of the kind of trips that subscribers would make versus the types of trips that customers would make.\n",
    "\n",
    "#####The Null Hypothesis for our z-test is that the mean trip duration of subscribers will be about the same as the mean trip duration of customers.\n",
    "\n",
    "#####Ho: u1 - u2 = 0\n",
    "\n",
    "#####The Alternate Hypothesis is that the mean trip duration of subscribers is statistically different than the mean trip duration of customers.\n",
    "\n",
    "#####H1: u1 - u2 ≠ 0\n",
    "\n",
    "#####Our confidence level will be 0.05.\n",
    "\n",
    "#####α = 0.05"
   ]
  },
  {
   "cell_type": "code",
   "execution_count": 1,
   "metadata": {
    "collapsed": false
   },
   "outputs": [
    {
     "name": "stdout",
     "output_type": "stream",
     "text": [
      "Populating the interactive namespace from numpy and matplotlib\n"
     ]
    }
   ],
   "source": [
    "import pylab as pl\n",
    "import pandas as pd\n",
    "import numpy as np\n",
    "import scipy.stats\n",
    "import os\n",
    "import json\n",
    "from zipfile import ZipFile\n",
    "from StringIO import StringIO\n",
    "import urllib2\n",
    "%pylab inline"
   ]
  },
  {
   "cell_type": "code",
   "execution_count": 2,
   "metadata": {
    "collapsed": true
   },
   "outputs": [],
   "source": [
    "# read in the zip file from the citibike website\n",
    "r = urllib2.urlopen(\"https://s3.amazonaws.com/tripdata/201501-citibike-tripdata.zip\").read()\n",
    "file = ZipFile(StringIO(r))\n",
    "citibike_csv = file.open(\"201501-citibike-tripdata.csv\")\n",
    "df = pd.read_csv(citibike_csv)"
   ]
  },
  {
   "cell_type": "code",
   "execution_count": 3,
   "metadata": {
    "collapsed": true
   },
   "outputs": [],
   "source": [
    "# iterate through the dataframe to extract our data\n",
    "trip_subscriber = []\n",
    "trip_customer = []\n",
    "\n",
    "for index, row in df.iterrows():\n",
    "        if row['usertype'] == 'Subscriber':\n",
    "                trip_subscriber.append(row['tripduration'])\n",
    "        elif row['usertype'] == 'Customer':\n",
    "                trip_customer.append(row['tripduration'])"
   ]
  },
  {
   "cell_type": "code",
   "execution_count": 4,
   "metadata": {
    "collapsed": false,
    "scrolled": true
   },
   "outputs": [
    {
     "data": {
      "text/plain": [
       "<matplotlib.text.Text at 0x10933fdd0>"
      ]
     },
     "execution_count": 4,
     "metadata": {},
     "output_type": "execute_result"
    },
    {
     "data": {
      "image/png": "[encoded data removed]",
      "text/plain": [
       "<matplotlib.figure.Figure at 0x1075e1550>"
      ]
     },
     "metadata": {},
     "output_type": "display_data"
    }
   ],
   "source": [
    "# plot the distributions of subscribers vs customers\n",
    "bins = range(500, 5000, 500)\n",
    "trip_subscriber = np.array(trip_subscriber)\n",
    "trip_customer = np.array(trip_customer)\n",
    "fig = pl.figure(figsize = [10,5])\n",
    "ax1 = fig.add_subplot(121)\n",
    "ax1.hist(trip_subscriber, bins = bins)\n",
    "ax1.set_title('Subscribers')\n",
    "ax2 = fig.add_subplot(122)\n",
    "ax2.hist(trip_customer, bins = bins)\n",
    "ax2.set_title('Customers')"
   ]
  },
  {
   "cell_type": "markdown",
   "metadata": {},
   "source": [
    "#####From these plots, we can already tell that there is a noticeable difference between the distributions of the two user types."
   ]
  },
  {
   "cell_type": "code",
   "execution_count": 5,
   "metadata": {
    "collapsed": false,
    "scrolled": true
   },
   "outputs": [
    {
     "name": "stdout",
     "output_type": "stream",
     "text": [
      "33.7877558335\n"
     ]
    }
   ],
   "source": [
    "# conduct z-test\n",
    "z_test = lambda x1, x2, u1, u2, o1, o2, n1, n2: ((x1 - x2) - (u1 - u2)) / np.sqrt((o1 / n1) + (o2 / n2))\n",
    "z_sample = z_test(np.average(trip_customer), np.average(trip_subscriber), 0, 0, np.var(trip_customer), np.var(trip_subscriber), len(trip_customer), len(trip_subscriber))\n",
    "print z_sample"
   ]
  },
  {
   "cell_type": "markdown",
   "metadata": {},
   "source": [
    "#####With a z-score of 33.7877, we can reject the null hypothesis that the mean of subscriber trip duration and the mean of customer trip duration are the same."
   ]
  },
  {
   "cell_type": "markdown",
   "metadata": {},
   "source": [
    "#####The z-score was very large, since the sample sizes of subscriber sample size is significantly larger than the customer sample size. So, we decided to conduct the K-S test to see if the two distributions come from the same parent distribution. Used used a significance level of 0.05."
   ]
  },
  {
   "cell_type": "code",
   "execution_count": 6,
   "metadata": {
    "collapsed": false
   },
   "outputs": [
    {
     "name": "stdout",
     "output_type": "stream",
     "text": [
      "(0.46182684553824527, 0.0)\n"
     ]
    }
   ],
   "source": [
    "# conduct ks test\n",
    "ks = scipy.stats.ks_2samp(trip_subscriber, trip_customer)\n",
    "print ks"
   ]
  },
  {
   "cell_type": "markdown",
   "metadata": {},
   "source": [
    "#####With a p-value of 0.0, we can reject the null hypothesis that the subscriber data and the customer data come from the same distribution."
   ]
  },
  {
   "cell_type": "markdown",
   "metadata": {},
   "source": [
    "#####Subscribers and customers have largely different trip durations. Our initial thought is that this is true because subscribers are more likely to be local residents who use their bikes for short commutes, while customers are more likely to be tourists who use bikes for long, scenic rides around the city."
   ]
  }
 ],
 "metadata": {
  "kernelspec": {
   "display_name": "Python 2",
   "language": "python",
   "name": "python2"
  },
  "language_info": {
   "codemirror_mode": {
    "name": "ipython",
    "version": 2
   },
   "file_extension": ".py",
   "mimetype": "text/x-python",
   "name": "python",
   "nbconvert_exporter": "python",
   "pygments_lexer": "ipython2",
   "version": "2.7.10"
  }
 },
 "nbformat": 4,
 "nbformat_minor": 0
}
