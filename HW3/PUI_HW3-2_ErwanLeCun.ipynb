{
 "cells": [
  {
   "cell_type": "markdown",
   "metadata": {},
   "source": [
    "# Erwan LeCun\n",
    "# 8/5/2015\n",
    "# PUI HW 3-2 "
   ]
  },
  {
   "cell_type": "code",
   "execution_count": 3,
   "metadata": {
    "collapsed": false
   },
   "outputs": [
    {
     "name": "stdout",
     "output_type": "stream",
     "text": [
      "0.370114343926\n",
      "is the p value 0.36 smaller than the critical value 0.05? \n",
      "NO!\n",
      "the Null hypothesis is not rejected\n"
     ]
    }
   ],
   "source": [
    "import os\n",
    "import sys\n",
    "import numpy as np\n",
    "import pylab as pl\n",
    "\n",
    "alpha = 0.05\n",
    "\n",
    "P_0 = 52.1 * 0.01\n",
    "P_1 = 53.3 * 0.01\n",
    "\n",
    "n_0 = 409\n",
    "n_1 = 564\n",
    "\n",
    "Nt_0 = P_0 * n_0\n",
    "Nt_1 = P_1 * n_1\n",
    "\n",
    "sp = (P_0 * n_0 + P_1 * n_1) / (n_1 + n_0)\n",
    "sp_stdev = lambda p, n: np.sqrt(p * (1 - p) / n[0] + p * (1 - p) / n[1])\n",
    "sp_stdev_3y = sp_stdev((Nt_0 + Nt_1) / (n_0 + n_1), [n_0, n_1])\n",
    "zscore = lambda p0, p1, s: (p0 - p1) / s\n",
    "z_3y = zscore(P_1, P_0, sp_stdev_3y)\n",
    "p_3y = 1 - 0.6443\n",
    "\n",
    "print z_3y\n",
    "\n",
    "def report_result(p, a):\n",
    "    print 'is the p value {0:.2f} smaller than the critical value {1:.2f}? '.format(p, a)\n",
    "    if p < a:\n",
    "        print \"YES!\"\n",
    "    else:\n",
    "        print \"NO!\"\n",
    "    print 'the Null hypothesis is {}'.format('rejected' if p < a else 'not rejected')\n",
    "\n",
    "report_result(p_3y, alpha)"
   ]
  },
  {
   "cell_type": "code",
   "execution_count": 4,
   "metadata": {
    "collapsed": false
   },
   "outputs": [
    {
     "name": "stdout",
     "output_type": "stream",
     "text": [
      "1.58939333193\n"
     ]
    }
   ],
   "source": [
    "Ntot = 973\n",
    "expected = 564 * 409 * 131.579 * 841.421\n",
    "sample_values = [[14.7 * 5.64, 85.3 * 5.64], [11.9 * 4.09, 88.1 * 4.09]]\n",
    "chisqstat = lambda N, values, expect: N * ((values[0][0] * values[1][1]\n",
    "                                            - values[0][1] * values[1][0])**2) / (expect)\n",
    "\n",
    "print chisqstat(Ntot, sample_values, expected)"
   ]
  },
  {
   "cell_type": "markdown",
   "metadata": {},
   "source": [
    "With a chisqstat of 1.589 and assuming a 0.05 probability, the critical value is equal to 3.84. \n",
    "\n",
    "Since 1.589 is smaller than 3.84, we would fail to reject the Null hypothesis."
   ]
  }
 ],
 "metadata": {
  "kernelspec": {
   "display_name": "Python 2",
   "language": "python",
   "name": "python2"
  },
  "language_info": {
   "codemirror_mode": {
    "name": "ipython",
    "version": 2
   },
   "file_extension": ".py",
   "mimetype": "text/x-python",
   "name": "python",
   "nbconvert_exporter": "python",
   "pygments_lexer": "ipython2",
   "version": "2.7.10"
  }
 },
 "nbformat": 4,
 "nbformat_minor": 0
}
